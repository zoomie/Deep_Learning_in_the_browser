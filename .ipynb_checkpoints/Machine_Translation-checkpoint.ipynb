{
 "cells": [
  {
   "cell_type": "markdown",
   "metadata": {
    "deletable": true,
    "editable": true
   },
   "source": [
    "## Using a simple RNN for machine translation\n",
    "This project is still in progress.\n",
    "\n",
    "I'm busy doing the Udacity Natural Language Processing Nanodegree and I'm busy trying build an effective English to French translation model.\n",
    "\n",
    "<a href='http://www.manythings.org/anki/'>Data</a>"
   ]
  },
  {
   "cell_type": "code",
   "execution_count": 26,
   "metadata": {
    "collapsed": false,
    "deletable": true,
    "editable": true
   },
   "outputs": [],
   "source": [
    "import numpy as np\n",
    "import pandas as pd\n",
    "\n",
    "from keras.preprocessing.text import Tokenizer\n",
    "from keras.preprocessing.sequence import pad_sequences\n",
    "from keras.models import Model\n",
    "from keras.layers import GRU, Input, Dense, TimeDistributed, Activation, RepeatVector, Bidirectional, LSTM\n",
    "from keras.layers.embeddings import Embedding\n",
    "from keras.optimizers import Adam\n",
    "from keras.losses import sparse_categorical_crossentropy"
   ]
  },
  {
   "cell_type": "code",
   "execution_count": 35,
   "metadata": {
    "collapsed": false,
    "deletable": true,
    "editable": true
   },
   "outputs": [
    {
     "data": {
      "text/html": [
       "<div>\n",
       "<style scoped>\n",
       "    .dataframe tbody tr th:only-of-type {\n",
       "        vertical-align: middle;\n",
       "    }\n",
       "\n",
       "    .dataframe tbody tr th {\n",
       "        vertical-align: top;\n",
       "    }\n",
       "\n",
       "    .dataframe thead th {\n",
       "        text-align: right;\n",
       "    }\n",
       "</style>\n",
       "<table border=\"1\" class=\"dataframe\">\n",
       "  <thead>\n",
       "    <tr style=\"text-align: right;\">\n",
       "      <th></th>\n",
       "      <th>0</th>\n",
       "      <th>1</th>\n",
       "    </tr>\n",
       "  </thead>\n",
       "  <tbody>\n",
       "    <tr>\n",
       "      <th>0</th>\n",
       "      <td>Hi.</td>\n",
       "      <td>Hoi.</td>\n",
       "    </tr>\n",
       "    <tr>\n",
       "      <th>1</th>\n",
       "      <td>Run!</td>\n",
       "      <td>Ren!</td>\n",
       "    </tr>\n",
       "    <tr>\n",
       "      <th>2</th>\n",
       "      <td>Who?</td>\n",
       "      <td>Wie?</td>\n",
       "    </tr>\n",
       "    <tr>\n",
       "      <th>3</th>\n",
       "      <td>Wow!</td>\n",
       "      <td>Da's niet gek!</td>\n",
       "    </tr>\n",
       "    <tr>\n",
       "      <th>4</th>\n",
       "      <td>Fire!</td>\n",
       "      <td>Vuur!</td>\n",
       "    </tr>\n",
       "    <tr>\n",
       "      <th>5</th>\n",
       "      <td>Fire!</td>\n",
       "      <td>Brand!</td>\n",
       "    </tr>\n",
       "    <tr>\n",
       "      <th>6</th>\n",
       "      <td>Help!</td>\n",
       "      <td>Help!</td>\n",
       "    </tr>\n",
       "    <tr>\n",
       "      <th>7</th>\n",
       "      <td>Jump.</td>\n",
       "      <td>Spring.</td>\n",
       "    </tr>\n",
       "    <tr>\n",
       "      <th>8</th>\n",
       "      <td>Stop!</td>\n",
       "      <td>Stop!</td>\n",
       "    </tr>\n",
       "    <tr>\n",
       "      <th>9</th>\n",
       "      <td>Stop!</td>\n",
       "      <td>Halt!</td>\n",
       "    </tr>\n",
       "  </tbody>\n",
       "</table>\n",
       "</div>"
      ],
      "text/plain": [
       "       0               1\n",
       "0    Hi.            Hoi.\n",
       "1   Run!            Ren!\n",
       "2   Who?            Wie?\n",
       "3   Wow!  Da's niet gek!\n",
       "4  Fire!           Vuur!\n",
       "5  Fire!          Brand!\n",
       "6  Help!           Help!\n",
       "7  Jump.         Spring.\n",
       "8  Stop!           Stop!\n",
       "9  Stop!           Halt!"
      ]
     },
     "execution_count": 35,
     "metadata": {},
     "output_type": "execute_result"
    }
   ],
   "source": [
    "fname = 'nld-eng/nld.txt'\n",
    "df = pd.read_csv(fname, header=None, sep='\\t', lineterminator='\\n')\n",
    "df[:10]"
   ]
  },
  {
   "cell_type": "code",
   "execution_count": 58,
   "metadata": {
    "collapsed": false,
    "deletable": true,
    "editable": true
   },
   "outputs": [],
   "source": [
    "english = list(df.iloc[:, 0])\n",
    "dutch = list(df.iloc[:, 1])"
   ]
  },
  {
   "cell_type": "code",
   "execution_count": 43,
   "metadata": {
    "collapsed": true,
    "deletable": true,
    "editable": true
   },
   "outputs": [],
   "source": [
    "# Preprosessing  functions\n",
    "def tokenize(x):\n",
    "    text_tokenizer = Tokenizer()\n",
    "    text_tokenizer.fit_on_texts(x)\n",
    "    text_tokenized = text_tokenizer.texts_to_sequences(x)\n",
    "    return text_tokenized, text_tokenizer\n",
    "\n",
    "def pad(x, length=None):\n",
    "    if length == None:\n",
    "        length = max([len(sentance) for sentance in x])\n",
    "    x = np.array(x)\n",
    "    x_padded = pad_sequences(x, maxlen=length, dtype='int32', padding='post')\n",
    "    return x_padded\n",
    "\n",
    "def preprocess(x, y):\n",
    "    preprocess_x, x_token = tokenize(x)\n",
    "    preprocess_y, y_token = tokenize(y)\n",
    "    preprocess_x = pad(preprocess_x)\n",
    "    preprocess_y = pad(preprocess_y)\n",
    "    return preprocess_x, preprocess_y, x_token, y_token"
   ]
  },
  {
   "cell_type": "code",
   "execution_count": 66,
   "metadata": {
    "collapsed": false,
    "deletable": true,
    "editable": true
   },
   "outputs": [],
   "source": [
    "eng_tokenized, eng_tokenizer = tokenize(english)\n",
    "dut_tokenized, dut_tokenizer = tokenize(dutch)"
   ]
  },
  {
   "cell_type": "code",
   "execution_count": 68,
   "metadata": {
    "collapsed": false
   },
   "outputs": [
    {
     "data": {
      "text/plain": [
       "[[1759],\n",
       " [2979],\n",
       " [69],\n",
       " [5135, 8, 368],\n",
       " [771],\n",
       " [1052],\n",
       " [636],\n",
       " [2980],\n",
       " [1101],\n",
       " [3697],\n",
       " [2514],\n",
       " [2981],\n",
       " [1759],\n",
       " [1, 397, 3],\n",
       " [1, 15, 798],\n",
       " [3698, 1102],\n",
       " [1053],\n",
       " [1760, 31],\n",
       " [319],\n",
       " [2982],\n",
       " [34, 2143],\n",
       " [1, 854, 3],\n",
       " [1, 15, 47],\n",
       " [1, 43, 3],\n",
       " [1, 15, 1317],\n",
       " [1, 1054, 18],\n",
       " [1, 5136, 772],\n",
       " [1, 23, 2515, 89],\n",
       " [456],\n",
       " [9, 30, 8],\n",
       " [8, 39],\n",
       " [143],\n",
       " [143, 39],\n",
       " [319],\n",
       " [672, 33],\n",
       " [319],\n",
       " [63, 1],\n",
       " [1927],\n",
       " [773],\n",
       " [2144],\n",
       " [2983],\n",
       " [467, 25],\n",
       " [467, 25, 18],\n",
       " [170, 312],\n",
       " [139, 33, 312],\n",
       " [170, 18],\n",
       " [2984],\n",
       " [77, 140],\n",
       " [2984],\n",
       " [77, 140],\n",
       " [136, 2985],\n",
       " [136, 266],\n",
       " [10, 2145],\n",
       " [636, 25],\n",
       " [636, 25],\n",
       " [1, 23, 3, 772, 111],\n",
       " [1, 23, 698, 964, 5137],\n",
       " [1, 23, 7],\n",
       " [1, 23, 729],\n",
       " [1, 23, 349],\n",
       " [1, 23, 3699],\n",
       " [1, 23, 3],\n",
       " [1, 23, 3],\n",
       " [170, 28, 70, 200],\n",
       " [133, 59, 200],\n",
       " [170, 59, 3700],\n",
       " [894, 5, 31],\n",
       " [894, 5, 83, 70, 31],\n",
       " [502, 3],\n",
       " [136, 2516],\n",
       " [2986],\n",
       " [91, 108, 296, 200, 18],\n",
       " [267, 3],\n",
       " [298, 3, 25],\n",
       " [7, 1318],\n",
       " [7, 20, 477],\n",
       " [478, 2987],\n",
       " [167, 457],\n",
       " [19, 40, 386],\n",
       " [1761],\n",
       " [69, 1928, 24],\n",
       " [69, 20, 798],\n",
       " [63, 8],\n",
       " [84, 40, 798],\n",
       " [23, 1, 729],\n",
       " [458, 673],\n",
       " [965, 18],\n",
       " [3701, 5, 140],\n",
       " [61, 159],\n",
       " [269, 137],\n",
       " [749, 7],\n",
       " [3702, 47],\n",
       " [53, 750],\n",
       " [2988, 5],\n",
       " [1511, 18],\n",
       " [1055, 5],\n",
       " [1511, 18],\n",
       " [1, 23, 729],\n",
       " [1, 2517],\n",
       " [1, 23, 217, 173]]"
      ]
     },
     "execution_count": 68,
     "metadata": {},
     "output_type": "execute_result"
    }
   ],
   "source": [
    "dut_tokenized[:100]"
   ]
  }
 ],
 "metadata": {
  "kernelspec": {
   "display_name": "Python 3",
   "language": "python",
   "name": "python3"
  },
  "language_info": {
   "codemirror_mode": {
    "name": "ipython",
    "version": 3
   },
   "file_extension": ".py",
   "mimetype": "text/x-python",
   "name": "python",
   "nbconvert_exporter": "python",
   "pygments_lexer": "ipython3",
   "version": "3.6.5"
  }
 },
 "nbformat": 4,
 "nbformat_minor": 2
}
