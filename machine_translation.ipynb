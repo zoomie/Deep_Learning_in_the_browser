{
 "cells": [
  {
   "cell_type": "markdown",
   "metadata": {
    "collapsed": true
   },
   "source": [
    "# Artificial Intelligence Nanodegree\n",
    "## Machine Translation Project\n",
    "In this notebook, sections that end with **'(IMPLEMENTATION)'** in the header indicate that the following blocks of code will require additional functionality which you must provide. Please be sure to read the instructions carefully!\n",
    "\n",
    "## Introduction\n",
    "In this notebook, you will build a deep neural network that functions as part of an end-to-end machine translation pipeline. Your completed pipeline will accept English text as input and return the French translation.\n",
    "\n",
    "- **Preprocess** - You'll convert text to sequence of integers.\n",
    "- **Models** Create models which accepts a sequence of integers as input and returns a probability distribution over possible translations. After learning about the basic types of neural networks that are often used for machine translation, you will engage in your own investigations, to design your own model!\n",
    "- **Prediction** Run the model on English text."
   ]
  },
  {
   "cell_type": "code",
   "execution_count": 1,
   "metadata": {},
   "outputs": [],
   "source": [
    "%load_ext autoreload\n",
    "%aimport helper, tests\n",
    "%autoreload 1"
   ]
  },
  {
   "cell_type": "code",
   "execution_count": 2,
   "metadata": {},
   "outputs": [
    {
     "name": "stderr",
     "output_type": "stream",
     "text": [
      "Using TensorFlow backend.\n"
     ]
    }
   ],
   "source": [
    "import collections\n",
    "\n",
    "import helper\n",
    "import numpy as np\n",
    "import project_tests as tests\n",
    "\n",
    "from keras.preprocessing.text import Tokenizer\n",
    "from keras.preprocessing.sequence import pad_sequences\n",
    "from keras.models import Model\n",
    "from keras.layers import GRU, Input, Dense, TimeDistributed, Activation, RepeatVector, Bidirectional, LSTM\n",
    "from keras.layers.embeddings import Embedding\n",
    "from keras.optimizers import Adam\n",
    "from keras.losses import sparse_categorical_crossentropy\n",
    "\n",
    "from keras import optimizers, Sequential\n",
    "from keras import regularizers\n",
    "from keras.layers import Dropout\n",
    "from keras.callbacks import EarlyStopping\n",
    "\n",
    "import matplotlib.pyplot as plt"
   ]
  },
  {
   "cell_type": "markdown",
   "metadata": {},
   "source": [
    "### Verify access to the GPU\n",
    "The following test applies only if you expect to be using a GPU, e.g., while running in a Udacity Workspace or using an AWS instance with GPU support. Run the next cell, and verify that the device_type is \"GPU\".\n",
    "- If the device is not GPU & you are running from a Udacity Workspace, then save your workspace with the icon at the top, then click \"enable\" at the bottom of the workspace.\n",
    "- If the device is not GPU & you are running from an AWS instance, then refer to the cloud computing instructions in the classroom to verify your setup steps."
   ]
  },
  {
   "cell_type": "code",
   "execution_count": 3,
   "metadata": {},
   "outputs": [
    {
     "name": "stdout",
     "output_type": "stream",
     "text": [
      "[name: \"/cpu:0\"\n",
      "device_type: \"CPU\"\n",
      "memory_limit: 268435456\n",
      "locality {\n",
      "}\n",
      "incarnation: 1409962315762049025\n",
      ", name: \"/gpu:0\"\n",
      "device_type: \"GPU\"\n",
      "memory_limit: 357302272\n",
      "locality {\n",
      "  bus_id: 1\n",
      "}\n",
      "incarnation: 8624587596754019954\n",
      "physical_device_desc: \"device: 0, name: Tesla K80, pci bus id: 0000:00:04.0\"\n",
      "]\n"
     ]
    }
   ],
   "source": [
    "from tensorflow.python.client import device_lib\n",
    "print(device_lib.list_local_devices())"
   ]
  },
  {
   "cell_type": "markdown",
   "metadata": {},
   "source": [
    "## Dataset\n",
    "We begin by investigating the dataset that will be used to train and evaluate your pipeline.  The most common datasets used for machine translation are from [WMT](http://www.statmt.org/).  However, that will take a long time to train a neural network on.  We'll be using a dataset we created for this project that contains a small vocabulary.  You'll be able to train your model in a reasonable time with this dataset.\n",
    "### Load Data\n",
    "The data is located in `data/small_vocab_en` and `data/small_vocab_fr`. The `small_vocab_en` file contains English sentences with their French translations in the `small_vocab_fr` file. Load the English and French data from these files from running the cell below."
   ]
  },
  {
   "cell_type": "code",
   "execution_count": 4,
   "metadata": {},
   "outputs": [
    {
     "name": "stdout",
     "output_type": "stream",
     "text": [
      "Dataset Loaded\n"
     ]
    }
   ],
   "source": [
    "# Load English data\n",
    "english_sentences = helper.load_data('data/small_vocab_en')\n",
    "# Load French data\n",
    "french_sentences = helper.load_data('data/small_vocab_fr')\n",
    "\n",
    "print('Dataset Loaded')"
   ]
  },
  {
   "cell_type": "markdown",
   "metadata": {},
   "source": [
    "### Files\n",
    "Each line in `small_vocab_en` contains an English sentence with the respective translation in each line of `small_vocab_fr`.  View the first two lines from each file."
   ]
  },
  {
   "cell_type": "code",
   "execution_count": 5,
   "metadata": {},
   "outputs": [
    {
     "name": "stdout",
     "output_type": "stream",
     "text": [
      "small_vocab_en Line 1:  new jersey is sometimes quiet during autumn , and it is snowy in april .\n",
      "small_vocab_fr Line 1:  new jersey est parfois calme pendant l' automne , et il est neigeux en avril .\n",
      "small_vocab_en Line 2:  the united states is usually chilly during july , and it is usually freezing in november .\n",
      "small_vocab_fr Line 2:  les états-unis est généralement froid en juillet , et il gèle habituellement en novembre .\n"
     ]
    }
   ],
   "source": [
    "for sample_i in range(2):\n",
    "    print('small_vocab_en Line {}:  {}'.format(sample_i + 1, english_sentences[sample_i]))\n",
    "    print('small_vocab_fr Line {}:  {}'.format(sample_i + 1, french_sentences[sample_i]))"
   ]
  },
  {
   "cell_type": "markdown",
   "metadata": {},
   "source": [
    "From looking at the sentences, you can see they have been preprocessed already.  The puncuations have been delimited using spaces. All the text have been converted to lowercase.  This should save you some time, but the text requires more preprocessing.\n",
    "### Vocabulary\n",
    "The complexity of the problem is determined by the complexity of the vocabulary.  A more complex vocabulary is a more complex problem.  Let's look at the complexity of the dataset we'll be working with."
   ]
  },
  {
   "cell_type": "code",
   "execution_count": null,
   "metadata": {},
   "outputs": [],
   "source": []
  },
  {
   "cell_type": "code",
   "execution_count": 6,
   "metadata": {},
   "outputs": [
    {
     "name": "stdout",
     "output_type": "stream",
     "text": [
      "1823250 English words.\n",
      "227 unique English words.\n",
      "10 Most common words in the English dataset:\n",
      "\"is\" \",\" \".\" \"in\" \"it\" \"during\" \"the\" \"but\" \"and\" \"sometimes\"\n",
      "\n",
      "1961295 French words.\n",
      "355 unique French words.\n",
      "10 Most common words in the French data/set:\n",
      "\"est\" \".\" \",\" \"en\" \"il\" \"les\" \"mais\" \"et\" \"la\" \"parfois\"\n"
     ]
    }
   ],
   "source": [
    "english_words_counter = collections.Counter([word for sentence in english_sentences for word in sentence.split()])\n",
    "french_words_counter = collections.Counter([word for sentence in french_sentences for word in sentence.split()])\n",
    "\n",
    "print('{} English words.'.format(len([word for sentence in english_sentences for word in sentence.split()])))\n",
    "print('{} unique English words.'.format(len(english_words_counter)))\n",
    "print('10 Most common words in the English dataset:')\n",
    "print('\"' + '\" \"'.join(list(zip(*english_words_counter.most_common(10)))[0]) + '\"')\n",
    "print()\n",
    "print('{} French words.'.format(len([word for sentence in french_sentences for word in sentence.split()])))\n",
    "print('{} unique French words.'.format(len(french_words_counter)))\n",
    "print('10 Most common words in the French data/set:')\n",
    "print('\"' + '\" \"'.join(list(zip(*french_words_counter.most_common(10)))[0]) + '\"')"
   ]
  },
  {
   "cell_type": "markdown",
   "metadata": {},
   "source": [
    "For comparison, _Alice's Adventures in Wonderland_ contains 2,766 unique words of a total of 15,500 words.\n",
    "## Preprocess\n",
    "For this project, you won't use text data as input to your model. Instead, you'll convert the text into sequences of integers using the following preprocess methods:\n",
    "1. Tokenize the words into ids\n",
    "2. Add padding to make all the sequences the same length.\n",
    "\n",
    "Time to start preprocessing the data...\n",
    "### Tokenize (IMPLEMENTATION)\n",
    "For a neural network to predict on text data, it first has to be turned into data it can understand. Text data like \"dog\" is a sequence of ASCII character encodings.  Since a neural network is a series of multiplication and addition operations, the input data needs to be number(s).\n",
    "\n",
    "We can turn each character into a number or each word into a number.  These are called character and word ids, respectively.  Character ids are used for character level models that generate text predictions for each character.  A word level model uses word ids that generate text predictions for each word.  Word level models tend to learn better, since they are lower in complexity, so we'll use those.\n",
    "\n",
    "Turn each sentence into a sequence of words ids using Keras's [`Tokenizer`](https://keras.io/preprocessing/text/#tokenizer) function. Use this function to tokenize `english_sentences` and `french_sentences` in the cell below.\n",
    "\n",
    "Running the cell will run `tokenize` on sample data and show output for debugging."
   ]
  },
  {
   "cell_type": "code",
   "execution_count": null,
   "metadata": {},
   "outputs": [],
   "source": []
  },
  {
   "cell_type": "code",
   "execution_count": 7,
   "metadata": {},
   "outputs": [
    {
     "name": "stdout",
     "output_type": "stream",
     "text": [
      "Sequence 1 in x\n",
      "  Input:  The quick brown fox jumps over the lazy dog .\n",
      "  Output: [1, 2, 4, 5, 6, 7, 1, 8, 9]\n",
      "Sequence 2 in x\n",
      "  Input:  By Jove , my quick study of lexicography won a prize .\n",
      "  Output: [10, 11, 12, 2, 13, 14, 15, 16, 3, 17]\n",
      "Sequence 3 in x\n",
      "  Input:  This is a short sentence .\n",
      "  Output: [18, 19, 3, 20, 21]\n"
     ]
    }
   ],
   "source": [
    "def tokenize(x):\n",
    "    \"\"\"\n",
    "    Tokenize x\n",
    "    :param x: List of sentences/strings to be tokenized\n",
    "    :return: Tuple of (tokenized x data, tokenizer used to tokenize x)\n",
    "    \"\"\"\n",
    "    text_tokenizer = Tokenizer()\n",
    "    text_tokenizer.fit_on_texts(x)\n",
    "    text_tokenized = text_tokenizer.texts_to_sequences(x)\n",
    "    return text_tokenized, text_tokenizer\n",
    "tests.test_tokenize(tokenize)\n",
    "\n",
    "text_sentences = [\n",
    "    'The quick brown fox jumps over the lazy dog .',\n",
    "    'By Jove , my quick study of lexicography won a prize .',\n",
    "    'This is a short sentence .']\n",
    "text_tokenized, text_tokenizer = tokenize(text_sentences)\n",
    "\n",
    "for sample_i, (sent, token_sent) in enumerate(zip(text_sentences, text_tokenized)):\n",
    "    print('Sequence {} in x'.format(sample_i + 1))\n",
    "    print('  Input:  {}'.format(sent))\n",
    "    print('  Output: {}'.format(token_sent))"
   ]
  },
  {
   "cell_type": "markdown",
   "metadata": {},
   "source": [
    "### Padding (IMPLEMENTATION)\n",
    "When batching the sequence of word ids together, each sequence needs to be the same length.  Since sentences are dynamic in length, we can add padding to the end of the sequences to make them the same length.\n",
    "\n",
    "Make sure all the English sequences have the same length and all the French sequences have the same length by adding padding to the **end** of each sequence using Keras's [`pad_sequences`](https://keras.io/preprocessing/sequence/#pad_sequences) function."
   ]
  },
  {
   "cell_type": "code",
   "execution_count": null,
   "metadata": {},
   "outputs": [],
   "source": []
  },
  {
   "cell_type": "code",
   "execution_count": null,
   "metadata": {},
   "outputs": [],
   "source": []
  },
  {
   "cell_type": "code",
   "execution_count": 8,
   "metadata": {},
   "outputs": [
    {
     "name": "stdout",
     "output_type": "stream",
     "text": [
      "Sequence 1 in x\n",
      "  Input:  [1 2 4 5 6 7 1 8 9]\n",
      "  Output: [1 2 4 5 6 7 1 8 9 0]\n",
      "Sequence 2 in x\n",
      "  Input:  [10 11 12  2 13 14 15 16  3 17]\n",
      "  Output: [10 11 12  2 13 14 15 16  3 17]\n",
      "Sequence 3 in x\n",
      "  Input:  [18 19  3 20 21]\n",
      "  Output: [18 19  3 20 21  0  0  0  0  0]\n"
     ]
    }
   ],
   "source": [
    "def pad(x, length=None):\n",
    "    \"\"\"\n",
    "    Pad x\n",
    "    :param x: List of sequences.\n",
    "    :param length: Length to pad the sequence to.  If None, use length of longest sequence in x.\n",
    "    :return: Padded numpy array of sequences\n",
    "    \"\"\"\n",
    "    if length == None:\n",
    "        length = max([len(sentance) for sentance in x])\n",
    "    x = np.array(x)\n",
    "    x_padded = pad_sequences(x, maxlen=length, dtype='int32', padding='post')\n",
    "    return x_padded\n",
    "\n",
    "tests.test_pad(pad)\n",
    "\n",
    "test_pad = pad(text_tokenized)\n",
    "for sample_i, (token_sent, pad_sent) in enumerate(zip(text_tokenized, test_pad)):\n",
    "    print('Sequence {} in x'.format(sample_i + 1))\n",
    "    print('  Input:  {}'.format(np.array(token_sent)))\n",
    "    print('  Output: {}'.format(pad_sent))"
   ]
  },
  {
   "cell_type": "markdown",
   "metadata": {},
   "source": [
    "### Preprocess Pipeline\n",
    "Your focus for this project is to build neural network architecture, so we won't ask you to create a preprocess pipeline.  Instead, we've provided you with the implementation of the `preprocess` function."
   ]
  },
  {
   "cell_type": "code",
   "execution_count": null,
   "metadata": {},
   "outputs": [],
   "source": []
  },
  {
   "cell_type": "code",
   "execution_count": 9,
   "metadata": {},
   "outputs": [
    {
     "name": "stdout",
     "output_type": "stream",
     "text": [
      "Data Preprocessed\n",
      "Max English sentence length: 15\n",
      "Max French sentence length: 21\n",
      "English vocabulary size: 199\n",
      "French vocabulary size: 344\n"
     ]
    }
   ],
   "source": [
    "def preprocess(x, y):\n",
    "    \"\"\"\n",
    "    Preprocess x and y\n",
    "    :param x: Feature List of sentences\n",
    "    :param y: Label List of sentences\n",
    "    :return: Tuple of (Preprocessed x, Preprocessed y, x tokenizer, y tokenizer)\n",
    "    \"\"\"\n",
    "    preprocess_x, x_tk = tokenize(x)\n",
    "    preprocess_y, y_tk = tokenize(y)\n",
    "\n",
    "    preprocess_x = pad(preprocess_x)\n",
    "    preprocess_y = pad(preprocess_y)\n",
    "\n",
    "    # Keras's sparse_categorical_crossentropy function requires the labels to be in 3 dimensions\n",
    "    preprocess_y = preprocess_y.reshape(*preprocess_y.shape, 1)\n",
    "\n",
    "    return preprocess_x, preprocess_y, x_tk, y_tk\n",
    "\n",
    "preproc_english_sentences, preproc_french_sentences, english_tokenizer, french_tokenizer =\\\n",
    "    preprocess(english_sentences, french_sentences)\n",
    "    \n",
    "max_english_sequence_length = preproc_english_sentences.shape[1]\n",
    "max_french_sequence_length = preproc_french_sentences.shape[1]\n",
    "english_vocab_size = len(english_tokenizer.word_index)\n",
    "french_vocab_size = len(french_tokenizer.word_index)\n",
    "\n",
    "print('Data Preprocessed')\n",
    "print(\"Max English sentence length:\", max_english_sequence_length)\n",
    "print(\"Max French sentence length:\", max_french_sequence_length)\n",
    "print(\"English vocabulary size:\", english_vocab_size)\n",
    "print(\"French vocabulary size:\", french_vocab_size)"
   ]
  },
  {
   "cell_type": "code",
   "execution_count": null,
   "metadata": {},
   "outputs": [],
   "source": []
  },
  {
   "cell_type": "code",
   "execution_count": null,
   "metadata": {},
   "outputs": [],
   "source": []
  },
  {
   "cell_type": "markdown",
   "metadata": {},
   "source": [
    "## Models\n",
    "In this section, you will experiment with various neural network architectures.\n",
    "You will begin by training four relatively simple architectures.\n",
    "- Model 1 is a simple RNN\n",
    "- Model 2 is a RNN with Embedding\n",
    "- Model 3 is a Bidirectional RNN\n",
    "- Model 4 is an optional Encoder-Decoder RNN\n",
    "\n",
    "After experimenting with the four simple architectures, you will construct a deeper architecture that is designed to outperform all four models.\n",
    "### Ids Back to Text\n",
    "The neural network will be translating the input to words ids, which isn't the final form we want.  We want the French translation.  The function `logits_to_text` will bridge the gab between the logits from the neural network to the French translation.  You'll be using this function to better understand the output of the neural network."
   ]
  },
  {
   "cell_type": "code",
   "execution_count": null,
   "metadata": {},
   "outputs": [],
   "source": []
  },
  {
   "cell_type": "code",
   "execution_count": 10,
   "metadata": {},
   "outputs": [
    {
     "name": "stdout",
     "output_type": "stream",
     "text": [
      "`logits_to_text` function loaded.\n"
     ]
    }
   ],
   "source": [
    "def logits_to_text(logits, tokenizer):\n",
    "    \"\"\"\n",
    "    Turn logits from a neural network into text using the tokenizer\n",
    "    :param logits: Logits from a neural network\n",
    "    :param tokenizer: Keras Tokenizer fit on the labels\n",
    "    :return: String that represents the text of the logits\n",
    "    \"\"\"\n",
    "    index_to_words = {id: word for word, id in tokenizer.word_index.items()}\n",
    "    index_to_words[0] = '<PAD>'\n",
    "\n",
    "    return ' '.join([index_to_words[prediction] for prediction in np.argmax(logits, 1)])\n",
    "\n",
    "print('`logits_to_text` function loaded.')"
   ]
  },
  {
   "cell_type": "markdown",
   "metadata": {},
   "source": [
    "### Model 1: RNN (IMPLEMENTATION)\n",
    "![RNN](images/rnn.png)\n",
    "A basic RNN model is a good baseline for sequence data.  In this model, you'll build a RNN that translates English to French."
   ]
  },
  {
   "cell_type": "code",
   "execution_count": 24,
   "metadata": {},
   "outputs": [
    {
     "name": "stdout",
     "output_type": "stream",
     "text": [
      "Train on 110288 samples, validate on 27573 samples\n",
      "Epoch 1/20\n",
      "110288/110288 [==============================] - 10s 91us/step - loss: 5.8705 - acc: 0.4424 - val_loss: nan - val_acc: 0.4627\n",
      "Epoch 2/20\n",
      "110288/110288 [==============================] - 9s 78us/step - loss: 5.8631 - acc: 0.4077 - val_loss: nan - val_acc: 0.4024\n",
      "Epoch 3/20\n",
      "110288/110288 [==============================] - 9s 78us/step - loss: 5.5271 - acc: 0.4088 - val_loss: nan - val_acc: 0.3851\n",
      "Epoch 4/20\n",
      "110288/110288 [==============================] - 9s 78us/step - loss: 4.6631 - acc: 0.4082 - val_loss: nan - val_acc: 0.4199\n",
      "à à est à à au au au à <PAD> à au au <PAD> <PAD> <PAD> <PAD> <PAD> <PAD> <PAD> <PAD>\n"
     ]
    }
   ],
   "source": [
    "def simple_model(input_shape, output_sequence_length, english_vocab_size, french_vocab_size):\n",
    "    \"\"\"\n",
    "    Build and train a basic RNN on x and y\n",
    "    :param input_shape: Tuple of input shape\n",
    "    :param output_sequence_length: Length of output sequence\n",
    "    :param english_vocab_size: Number of unique English words in the dataset\n",
    "    :param french_vocab_size: Number of unique French words in the dataset\n",
    "    :return: Keras model built, but not trained\n",
    "    \"\"\"\n",
    "    number_units = 100\n",
    "    model = Sequential()\n",
    "    model.add(GRU(number_units, return_sequences=True, input_shape=input_shape[1:]))\n",
    "    model.add(TimeDistributed(Dense(french_vocab_size)))\n",
    "    \n",
    "    model.compile(loss='sparse_categorical_crossentropy',\n",
    "                  optimizer=Adam(lr=0.0014, decay=0.00004),\n",
    "                  metrics=['accuracy'])\n",
    "    return model\n",
    "tests.test_simple_model(simple_model)\n",
    "\n",
    "tmp_x = pad(preproc_english_sentences, 21)\n",
    "tmp_x = tmp_x.reshape((-1, 21, 1))\n",
    "\n",
    "model = simple_model(tmp_x.shape,\n",
    "                     max_french_sequence_length,\n",
    "                     english_vocab_size,\n",
    "                     french_vocab_size)\n",
    "\n",
    "model.fit(tmp_x, \n",
    "          preproc_french_sentences, \n",
    "          batch_size=500, \n",
    "          epochs=20, \n",
    "          validation_split=0.2,\n",
    "          callbacks=[EarlyStopping(monitor='val_acc', patience=3)])\n",
    "\n",
    "print(logits_to_text(model.predict(tmp_x[:1])[0], french_tokenizer))"
   ]
  },
  {
   "cell_type": "code",
   "execution_count": null,
   "metadata": {},
   "outputs": [],
   "source": []
  },
  {
   "cell_type": "code",
   "execution_count": null,
   "metadata": {},
   "outputs": [],
   "source": []
  },
  {
   "cell_type": "code",
   "execution_count": null,
   "metadata": {},
   "outputs": [],
   "source": []
  },
  {
   "cell_type": "markdown",
   "metadata": {},
   "source": [
    "### Model 2: Embedding (IMPLEMENTATION)\n",
    "![RNN](images/embedding.png)\n",
    "You've turned the words into ids, but there's a better representation of a word.  This is called word embeddings.  An embedding is a vector representation of the word that is close to similar words in n-dimensional space, where the n represents the size of the embedding vectors.\n",
    "\n",
    "In this model, you'll create a RNN model using embedding."
   ]
  },
  {
   "cell_type": "code",
   "execution_count": null,
   "metadata": {
    "scrolled": true
   },
   "outputs": [],
   "source": []
  },
  {
   "cell_type": "code",
   "execution_count": null,
   "metadata": {},
   "outputs": [],
   "source": []
  },
  {
   "cell_type": "code",
   "execution_count": 27,
   "metadata": {},
   "outputs": [
    {
     "name": "stdout",
     "output_type": "stream",
     "text": [
      "Train on 110288 samples, validate on 27573 samples\n",
      "Epoch 1/20\n",
      "110288/110288 [==============================] - 12s 113us/step - loss: 3.4753 - acc: 0.3982 - val_loss: nan - val_acc: 0.4179\n",
      "Epoch 2/20\n",
      "110288/110288 [==============================] - 10s 94us/step - loss: 2.2740 - acc: 0.5070 - val_loss: nan - val_acc: 0.5785\n",
      "Epoch 3/20\n",
      "110288/110288 [==============================] - 10s 95us/step - loss: 1.4924 - acc: 0.6290 - val_loss: nan - val_acc: 0.6813\n",
      "Epoch 4/20\n",
      "110288/110288 [==============================] - 10s 94us/step - loss: 1.0993 - acc: 0.7230 - val_loss: nan - val_acc: 0.7549\n",
      "Epoch 5/20\n",
      "110288/110288 [==============================] - 10s 95us/step - loss: 0.8896 - acc: 0.7714 - val_loss: nan - val_acc: 0.7884\n",
      "Epoch 6/20\n",
      "110288/110288 [==============================] - 10s 95us/step - loss: 0.7651 - acc: 0.7979 - val_loss: nan - val_acc: 0.8083\n",
      "Epoch 7/20\n",
      "110288/110288 [==============================] - 11s 95us/step - loss: 0.6873 - acc: 0.8149 - val_loss: nan - val_acc: 0.8221\n",
      "Epoch 8/20\n",
      "110288/110288 [==============================] - 10s 95us/step - loss: 0.6326 - acc: 0.8260 - val_loss: nan - val_acc: 0.8318\n",
      "Epoch 9/20\n",
      "110288/110288 [==============================] - 10s 95us/step - loss: 0.5916 - acc: 0.8353 - val_loss: nan - val_acc: 0.8397\n",
      "Epoch 10/20\n",
      "110288/110288 [==============================] - 10s 95us/step - loss: 0.5602 - acc: 0.8423 - val_loss: nan - val_acc: 0.8463\n",
      "Epoch 11/20\n",
      "110288/110288 [==============================] - 10s 95us/step - loss: 0.5348 - acc: 0.8483 - val_loss: nan - val_acc: 0.8505\n",
      "Epoch 12/20\n",
      "110288/110288 [==============================] - 10s 95us/step - loss: 0.5134 - acc: 0.8532 - val_loss: nan - val_acc: 0.8555\n",
      "Epoch 13/20\n",
      "110288/110288 [==============================] - 10s 95us/step - loss: 0.4959 - acc: 0.8575 - val_loss: nan - val_acc: 0.8589\n",
      "Epoch 14/20\n",
      "110288/110288 [==============================] - 10s 95us/step - loss: 0.4805 - acc: 0.8616 - val_loss: nan - val_acc: 0.8626\n",
      "Epoch 15/20\n",
      "110288/110288 [==============================] - 10s 94us/step - loss: 0.4678 - acc: 0.8650 - val_loss: nan - val_acc: 0.8667\n",
      "Epoch 16/20\n",
      "110288/110288 [==============================] - 10s 94us/step - loss: 0.4556 - acc: 0.8682 - val_loss: nan - val_acc: 0.8691\n",
      "Epoch 17/20\n",
      "110288/110288 [==============================] - 10s 95us/step - loss: 0.4453 - acc: 0.8710 - val_loss: nan - val_acc: 0.8725\n",
      "Epoch 18/20\n",
      "110288/110288 [==============================] - 11s 95us/step - loss: 0.4359 - acc: 0.8735 - val_loss: nan - val_acc: 0.8737\n",
      "Epoch 19/20\n",
      "110288/110288 [==============================] - 10s 95us/step - loss: 0.4283 - acc: 0.8757 - val_loss: nan - val_acc: 0.8764\n",
      "Epoch 20/20\n",
      "110288/110288 [==============================] - 10s 95us/step - loss: 0.4210 - acc: 0.8776 - val_loss: nan - val_acc: 0.8778\n",
      "new jersey est parfois calme en l' et et il est est en avril <PAD> <PAD> <PAD> <PAD> <PAD> <PAD> <PAD>\n"
     ]
    }
   ],
   "source": [
    "def embed_model(input_shape, output_sequence_length, english_vocab_size, french_vocab_size):\n",
    "    \"\"\"\n",
    "    Build and train a RNN model using word embedding on x and y\n",
    "    :param input_shape: Tuple of input shape\n",
    "    :param output_sequence_length: Length of output sequence\n",
    "    :param english_vocab_size: Number of unique English words in the dataset\n",
    "    :param french_vocab_size: Number of unique French words in the dataset\n",
    "    :return: Keras model built, but not trained\n",
    "    \"\"\"\n",
    "    word_vec_dim = 20\n",
    "    number_units = 30\n",
    "    inputs = Input(shape=input_shape[1:])\n",
    "    embedding = Embedding(input_dim=english_vocab_size, output_dim=word_vec_dim)(inputs)\n",
    "    hidden = GRU(number_units, return_sequences=True)(embedding)\n",
    "    outputs = TimeDistributed(Dense(french_vocab_size))(hidden)\n",
    "    model = Model(inputs, Activation('softmax')(outputs))\n",
    "    \n",
    "    model.compile(loss='sparse_categorical_crossentropy',\n",
    "                  optimizer=Adam(lr=0.0016, decay=0.00003),\n",
    "                  metrics=['accuracy'])\n",
    "    return model\n",
    "tests.test_embed_model(embed_model)\n",
    "\n",
    "tmp_x = pad(preproc_english_sentences, 21)\n",
    "model = embed_model(tmp_x.shape,\n",
    "                    max_french_sequence_length,\n",
    "                    english_vocab_size,\n",
    "                    french_vocab_size)\n",
    "\n",
    "model.fit(tmp_x, \n",
    "          preproc_french_sentences, \n",
    "          batch_size=500, \n",
    "          epochs=20, \n",
    "          validation_split=0.2,\n",
    "          callbacks=[EarlyStopping(monitor='val_acc', patience=2)])\n",
    "\n",
    "print(logits_to_text(model.predict(tmp_x[:1])[0], french_tokenizer))"
   ]
  },
  {
   "cell_type": "code",
   "execution_count": null,
   "metadata": {},
   "outputs": [],
   "source": []
  },
  {
   "cell_type": "markdown",
   "metadata": {},
   "source": [
    "### Model 3: Bidirectional RNNs (IMPLEMENTATION)\n",
    "![RNN](images/bidirectional.png)\n",
    "One restriction of a RNN is that it can't see the future input, only the past.  This is where bidirectional recurrent neural networks come in.  They are able to see the future data."
   ]
  },
  {
   "cell_type": "code",
   "execution_count": null,
   "metadata": {},
   "outputs": [],
   "source": []
  },
  {
   "cell_type": "code",
   "execution_count": 25,
   "metadata": {},
   "outputs": [
    {
     "name": "stdout",
     "output_type": "stream",
     "text": [
      "Train on 110288 samples, validate on 27573 samples\n",
      "Epoch 1/20\n",
      "110288/110288 [==============================] - 17s 154us/step - loss: 6.7311 - acc: 0.3857 - val_loss: nan - val_acc: 0.2545\n",
      "Epoch 2/20\n",
      "110288/110288 [==============================] - 15s 138us/step - loss: 6.5827 - acc: 0.3850 - val_loss: nan - val_acc: 0.4057\n",
      "Epoch 3/20\n",
      "110288/110288 [==============================] - 15s 136us/step - loss: 6.3285 - acc: 0.4084 - val_loss: nan - val_acc: 0.4194\n",
      "Epoch 4/20\n",
      "110288/110288 [==============================] - 15s 137us/step - loss: 6.2747 - acc: 0.4208 - val_loss: nan - val_acc: 0.4223\n",
      "Epoch 5/20\n",
      "110288/110288 [==============================] - 15s 136us/step - loss: 6.1729 - acc: 0.4184 - val_loss: nan - val_acc: 0.4168\n",
      "Epoch 6/20\n",
      "110288/110288 [==============================] - 15s 136us/step - loss: 5.8612 - acc: 0.3949 - val_loss: nan - val_acc: 0.4507\n",
      "Epoch 7/20\n",
      "110288/110288 [==============================] - 15s 136us/step - loss: 5.0917 - acc: 0.4319 - val_loss: nan - val_acc: 0.4215\n",
      "Epoch 8/20\n",
      "110288/110288 [==============================] - 15s 137us/step - loss: 4.9560 - acc: 0.4158 - val_loss: nan - val_acc: 0.4216\n",
      "la le la la le la le la la la le la le <PAD> <PAD> <PAD> <PAD> <PAD> <PAD> <PAD> <PAD>\n"
     ]
    }
   ],
   "source": [
    "def bd_model(input_shape, output_sequence_length, english_vocab_size, french_vocab_size):\n",
    "    \"\"\"\n",
    "    Build and train a bidirectional RNN model on x and y\n",
    "    :param input_shape: Tuple of input shape\n",
    "    :param output_sequence_length: Length of output sequence\n",
    "    :param english_vocab_size: Number of unique English words in the dataset\n",
    "    :param french_vocab_size: Number of unique French words in the dataset\n",
    "    :return: Keras model built, but not trained\n",
    "    \"\"\"\n",
    "    # This model and the first one did not produce any good results.\n",
    "    # I tried many different GRU untis but the fact that the \n",
    "    # data is represented by continuous data made it too difficult.\n",
    "    number_units = 100\n",
    "    model = Sequential()\n",
    "    model.add(Bidirectional(GRU(number_units, return_sequences=True), input_shape=input_shape[1:]))\n",
    "    model.add(TimeDistributed(Dense(french_vocab_size)))\n",
    "    model.compile(loss='sparse_categorical_crossentropy',\n",
    "                  optimizer=Adam(lr=0.0014, decay=0.00003),\n",
    "                  metrics=['accuracy'])\n",
    "    return model\n",
    "tests.test_bd_model(bd_model)\n",
    "\n",
    "tmp_x = pad(preproc_english_sentences, 21)\n",
    "tmp_x = tmp_x.reshape((-1, 21, 1))\n",
    "model = bd_model(tmp_x.shape,\n",
    "                 max_french_sequence_length,\n",
    "                 english_vocab_size,\n",
    "                 french_vocab_size)\n",
    "\n",
    "model.fit(tmp_x, \n",
    "          preproc_french_sentences, \n",
    "          batch_size=500, \n",
    "          epochs=20, \n",
    "          validation_split=0.2,\n",
    "          callbacks=[EarlyStopping(monitor='val_acc', patience=2)])\n",
    "\n",
    "print(logits_to_text(model.predict(tmp_x[:1])[0], french_tokenizer))"
   ]
  },
  {
   "cell_type": "markdown",
   "metadata": {},
   "source": []
  },
  {
   "cell_type": "code",
   "execution_count": null,
   "metadata": {},
   "outputs": [],
   "source": []
  },
  {
   "cell_type": "code",
   "execution_count": null,
   "metadata": {},
   "outputs": [],
   "source": []
  },
  {
   "cell_type": "code",
   "execution_count": null,
   "metadata": {},
   "outputs": [],
   "source": []
  },
  {
   "cell_type": "code",
   "execution_count": null,
   "metadata": {},
   "outputs": [],
   "source": []
  },
  {
   "cell_type": "code",
   "execution_count": null,
   "metadata": {},
   "outputs": [],
   "source": []
  },
  {
   "cell_type": "code",
   "execution_count": null,
   "metadata": {},
   "outputs": [],
   "source": []
  },
  {
   "cell_type": "code",
   "execution_count": null,
   "metadata": {},
   "outputs": [],
   "source": []
  },
  {
   "cell_type": "code",
   "execution_count": null,
   "metadata": {},
   "outputs": [],
   "source": []
  },
  {
   "cell_type": "code",
   "execution_count": null,
   "metadata": {},
   "outputs": [],
   "source": []
  },
  {
   "cell_type": "code",
   "execution_count": null,
   "metadata": {},
   "outputs": [],
   "source": []
  },
  {
   "cell_type": "code",
   "execution_count": null,
   "metadata": {},
   "outputs": [],
   "source": []
  },
  {
   "cell_type": "markdown",
   "metadata": {},
   "source": [
    "### Model 5: Custom (IMPLEMENTATION)\n",
    "Use everything you learned from the previous models to create a model that incorporates embedding and a bidirectional rnn into one model.\n",
    "## Prediction (IMPLEMENTATION)"
   ]
  },
  {
   "cell_type": "code",
   "execution_count": 65,
   "metadata": {},
   "outputs": [
    {
     "name": "stdout",
     "output_type": "stream",
     "text": [
      "Final Model Loaded\n",
      "Train on 110288 samples, validate on 27573 samples\n",
      "Epoch 1/100\n",
      "110288/110288 [==============================] - 40s 366us/step - loss: 2.8156 - acc: 0.4629 - val_loss: nan - val_acc: 0.5336\n",
      "Epoch 2/100\n",
      "110288/110288 [==============================] - 31s 282us/step - loss: 1.5458 - acc: 0.6185 - val_loss: nan - val_acc: 0.6866\n",
      "Epoch 3/100\n",
      "110288/110288 [==============================] - 32s 286us/step - loss: 1.0637 - acc: 0.7270 - val_loss: nan - val_acc: 0.7615\n",
      "Epoch 4/100\n",
      "110288/110288 [==============================] - 31s 285us/step - loss: 0.8212 - acc: 0.7868 - val_loss: nan - val_acc: 0.8095\n",
      "Epoch 5/100\n",
      "110288/110288 [==============================] - 31s 280us/step - loss: 0.6650 - acc: 0.8234 - val_loss: nan - val_acc: 0.8351\n",
      "Epoch 6/100\n",
      "110288/110288 [==============================] - 31s 283us/step - loss: 0.5620 - acc: 0.8454 - val_loss: nan - val_acc: 0.8549\n",
      "Epoch 7/100\n",
      "110288/110288 [==============================] - 31s 280us/step - loss: 0.4918 - acc: 0.8631 - val_loss: nan - val_acc: 0.8698\n",
      "Epoch 8/100\n",
      "110288/110288 [==============================] - 31s 282us/step - loss: 0.4410 - acc: 0.8769 - val_loss: nan - val_acc: 0.8838\n",
      "Epoch 9/100\n",
      "110288/110288 [==============================] - 31s 281us/step - loss: 0.3988 - acc: 0.8890 - val_loss: nan - val_acc: 0.8951\n",
      "Epoch 10/100\n",
      "110288/110288 [==============================] - 31s 282us/step - loss: 0.3642 - acc: 0.8985 - val_loss: nan - val_acc: 0.9032\n",
      "Epoch 11/100\n",
      "110288/110288 [==============================] - 31s 284us/step - loss: 0.3372 - acc: 0.9054 - val_loss: nan - val_acc: 0.9084\n",
      "Epoch 12/100\n",
      "110288/110288 [==============================] - 31s 282us/step - loss: 0.3140 - acc: 0.9115 - val_loss: nan - val_acc: 0.9138\n",
      "Epoch 13/100\n",
      "110288/110288 [==============================] - 31s 282us/step - loss: 0.2952 - acc: 0.9162 - val_loss: nan - val_acc: 0.9187\n",
      "Epoch 14/100\n",
      "110288/110288 [==============================] - 31s 282us/step - loss: 0.2785 - acc: 0.9208 - val_loss: nan - val_acc: 0.9222\n",
      "Epoch 15/100\n",
      "110288/110288 [==============================] - 31s 279us/step - loss: 0.2653 - acc: 0.9242 - val_loss: nan - val_acc: 0.9256\n",
      "Epoch 16/100\n",
      "110288/110288 [==============================] - 31s 280us/step - loss: 0.2531 - acc: 0.9272 - val_loss: nan - val_acc: 0.9272\n",
      "Epoch 17/100\n",
      "110288/110288 [==============================] - 31s 280us/step - loss: 0.2441 - acc: 0.9294 - val_loss: nan - val_acc: 0.9289\n",
      "Epoch 18/100\n",
      "110288/110288 [==============================] - 31s 279us/step - loss: 0.2341 - acc: 0.9320 - val_loss: nan - val_acc: 0.9321\n",
      "Epoch 19/100\n",
      "110288/110288 [==============================] - 31s 280us/step - loss: 0.2265 - acc: 0.9338 - val_loss: nan - val_acc: 0.9331\n",
      "Epoch 20/100\n",
      "110288/110288 [==============================] - 31s 281us/step - loss: 0.2180 - acc: 0.9360 - val_loss: nan - val_acc: 0.9342\n",
      "Epoch 21/100\n",
      "110288/110288 [==============================] - 31s 283us/step - loss: 0.2112 - acc: 0.9377 - val_loss: nan - val_acc: 0.9357\n",
      "Epoch 22/100\n",
      "110288/110288 [==============================] - 31s 281us/step - loss: 0.2053 - acc: 0.9392 - val_loss: nan - val_acc: 0.9354\n",
      "Epoch 23/100\n",
      "110288/110288 [==============================] - 31s 282us/step - loss: 0.1999 - acc: 0.9405 - val_loss: nan - val_acc: 0.9393\n",
      "Epoch 24/100\n",
      "110288/110288 [==============================] - 31s 285us/step - loss: 0.1936 - acc: 0.9423 - val_loss: nan - val_acc: 0.9410\n",
      "Epoch 25/100\n",
      "110288/110288 [==============================] - 31s 282us/step - loss: 0.1886 - acc: 0.9436 - val_loss: nan - val_acc: 0.9424\n",
      "Epoch 26/100\n",
      "110288/110288 [==============================] - 31s 282us/step - loss: 0.1832 - acc: 0.9454 - val_loss: nan - val_acc: 0.9421\n",
      "Epoch 27/100\n",
      "110288/110288 [==============================] - 31s 282us/step - loss: 0.1801 - acc: 0.9460 - val_loss: nan - val_acc: 0.9453\n",
      "Epoch 28/100\n",
      "110288/110288 [==============================] - 31s 282us/step - loss: 0.1740 - acc: 0.9481 - val_loss: nan - val_acc: 0.9461\n",
      "Epoch 29/100\n",
      "110288/110288 [==============================] - 31s 282us/step - loss: 0.1712 - acc: 0.9487 - val_loss: nan - val_acc: 0.9480\n",
      "Epoch 30/100\n",
      "110288/110288 [==============================] - 31s 282us/step - loss: 0.1667 - acc: 0.9502 - val_loss: nan - val_acc: 0.9480\n",
      "Epoch 31/100\n",
      "110288/110288 [==============================] - 31s 281us/step - loss: 0.1634 - acc: 0.9512 - val_loss: nan - val_acc: 0.9438\n",
      "Epoch 32/100\n",
      "110288/110288 [==============================] - 31s 281us/step - loss: 0.1598 - acc: 0.9522 - val_loss: nan - val_acc: 0.9508\n",
      "Epoch 33/100\n",
      "110288/110288 [==============================] - 31s 282us/step - loss: 0.1572 - acc: 0.9531 - val_loss: nan - val_acc: 0.9506\n",
      "Epoch 34/100\n",
      "110288/110288 [==============================] - 31s 281us/step - loss: 0.1540 - acc: 0.9539 - val_loss: nan - val_acc: 0.9515\n",
      "Epoch 35/100\n",
      "110288/110288 [==============================] - 31s 283us/step - loss: 0.1514 - acc: 0.9548 - val_loss: nan - val_acc: 0.9516\n",
      "Epoch 36/100\n",
      "110288/110288 [==============================] - 31s 282us/step - loss: 0.1477 - acc: 0.9561 - val_loss: nan - val_acc: 0.9532\n",
      "Epoch 37/100\n",
      "110288/110288 [==============================] - 31s 281us/step - loss: 0.1462 - acc: 0.9563 - val_loss: nan - val_acc: 0.9534\n",
      "Epoch 38/100\n",
      "110288/110288 [==============================] - 31s 282us/step - loss: 0.1441 - acc: 0.9570 - val_loss: nan - val_acc: 0.9547\n",
      "Epoch 39/100\n",
      "110288/110288 [==============================] - 31s 282us/step - loss: 0.1428 - acc: 0.9573 - val_loss: nan - val_acc: 0.9537\n",
      "Epoch 40/100\n",
      "110288/110288 [==============================] - 31s 280us/step - loss: 0.1392 - acc: 0.9584 - val_loss: nan - val_acc: 0.9558\n",
      "Epoch 41/100\n",
      "110288/110288 [==============================] - 31s 283us/step - loss: 0.1366 - acc: 0.9593 - val_loss: nan - val_acc: 0.9560\n",
      "Epoch 42/100\n",
      "110288/110288 [==============================] - 32s 286us/step - loss: 0.1355 - acc: 0.9595 - val_loss: nan - val_acc: 0.9562\n",
      "Epoch 43/100\n",
      "110288/110288 [==============================] - 31s 280us/step - loss: 0.1331 - acc: 0.9603 - val_loss: nan - val_acc: 0.9571\n",
      "Epoch 44/100\n",
      "110288/110288 [==============================] - 31s 282us/step - loss: 0.1325 - acc: 0.9602 - val_loss: nan - val_acc: 0.9551\n",
      "Epoch 45/100\n",
      "110288/110288 [==============================] - 31s 281us/step - loss: 0.1299 - acc: 0.9612 - val_loss: nan - val_acc: 0.9579\n",
      "Epoch 46/100\n",
      "110288/110288 [==============================] - 31s 282us/step - loss: 0.1293 - acc: 0.9612 - val_loss: nan - val_acc: 0.9587\n",
      "Epoch 47/100\n",
      "110288/110288 [==============================] - 31s 280us/step - loss: 0.1265 - acc: 0.9622 - val_loss: nan - val_acc: 0.9591\n",
      "Epoch 48/100\n",
      "110288/110288 [==============================] - 31s 280us/step - loss: 0.1247 - acc: 0.9628 - val_loss: nan - val_acc: 0.9593\n",
      "Epoch 49/100\n",
      "110288/110288 [==============================] - 31s 281us/step - loss: 0.1242 - acc: 0.9627 - val_loss: nan - val_acc: 0.9589\n",
      "Epoch 50/100\n",
      "110288/110288 [==============================] - 31s 280us/step - loss: 0.1223 - acc: 0.9634 - val_loss: nan - val_acc: 0.9599\n",
      "Epoch 51/100\n",
      "110288/110288 [==============================] - 31s 281us/step - loss: 0.1208 - acc: 0.9638 - val_loss: nan - val_acc: 0.9612\n",
      "Epoch 52/100\n",
      "110288/110288 [==============================] - 31s 281us/step - loss: 0.1188 - acc: 0.9645 - val_loss: nan - val_acc: 0.9604\n",
      "Epoch 53/100\n",
      "110288/110288 [==============================] - 31s 280us/step - loss: 0.1183 - acc: 0.9645 - val_loss: nan - val_acc: 0.9613\n",
      "Epoch 54/100\n",
      "110288/110288 [==============================] - 31s 281us/step - loss: 0.1173 - acc: 0.9648 - val_loss: nan - val_acc: 0.9616\n",
      "Epoch 55/100\n",
      "110288/110288 [==============================] - 31s 285us/step - loss: 0.1157 - acc: 0.9653 - val_loss: nan - val_acc: 0.9603\n",
      "Epoch 56/100\n",
      "110288/110288 [==============================] - 31s 282us/step - loss: 0.1145 - acc: 0.9657 - val_loss: nan - val_acc: 0.9607\n",
      "Epoch 57/100\n",
      "110288/110288 [==============================] - 31s 281us/step - loss: 0.1131 - acc: 0.9662 - val_loss: nan - val_acc: 0.9622\n",
      "Epoch 58/100\n",
      "110288/110288 [==============================] - 31s 281us/step - loss: 0.1129 - acc: 0.9661 - val_loss: nan - val_acc: 0.9625\n",
      "Epoch 59/100\n"
     ]
    },
    {
     "name": "stdout",
     "output_type": "stream",
     "text": [
      "110288/110288 [==============================] - 31s 284us/step - loss: 0.1107 - acc: 0.9669 - val_loss: nan - val_acc: 0.9611\n",
      "Epoch 60/100\n",
      "110288/110288 [==============================] - 31s 283us/step - loss: 0.1106 - acc: 0.9668 - val_loss: nan - val_acc: 0.9625\n",
      "Epoch 61/100\n",
      "110288/110288 [==============================] - 31s 282us/step - loss: 0.1097 - acc: 0.9671 - val_loss: nan - val_acc: 0.9638\n",
      "Epoch 62/100\n",
      "110288/110288 [==============================] - 31s 283us/step - loss: 0.1075 - acc: 0.9679 - val_loss: nan - val_acc: 0.9640\n",
      "Epoch 63/100\n",
      "110288/110288 [==============================] - 31s 284us/step - loss: 0.1067 - acc: 0.9681 - val_loss: nan - val_acc: 0.9630\n",
      "Epoch 64/100\n",
      "110288/110288 [==============================] - 31s 281us/step - loss: 0.1065 - acc: 0.9681 - val_loss: nan - val_acc: 0.9649\n",
      "Epoch 65/100\n",
      "110288/110288 [==============================] - 31s 282us/step - loss: 0.1054 - acc: 0.9685 - val_loss: nan - val_acc: 0.9651\n",
      "Epoch 66/100\n",
      "110288/110288 [==============================] - 31s 281us/step - loss: 0.1043 - acc: 0.9689 - val_loss: nan - val_acc: 0.9653\n",
      "Epoch 67/100\n",
      "110288/110288 [==============================] - 31s 278us/step - loss: 0.1025 - acc: 0.9695 - val_loss: nan - val_acc: 0.9644\n",
      "Epoch 68/100\n",
      "110288/110288 [==============================] - 31s 282us/step - loss: 0.1035 - acc: 0.9691 - val_loss: nan - val_acc: 0.9641\n",
      "Epoch 69/100\n",
      "110288/110288 [==============================] - 31s 283us/step - loss: 0.1017 - acc: 0.9697 - val_loss: nan - val_acc: 0.9658\n",
      "Epoch 70/100\n",
      "110288/110288 [==============================] - 31s 283us/step - loss: 0.1012 - acc: 0.9698 - val_loss: nan - val_acc: 0.9655\n",
      "Epoch 71/100\n",
      "110288/110288 [==============================] - 31s 283us/step - loss: 0.1004 - acc: 0.9701 - val_loss: nan - val_acc: 0.9662\n",
      "Epoch 72/100\n",
      "110288/110288 [==============================] - 32s 286us/step - loss: 0.0989 - acc: 0.9705 - val_loss: nan - val_acc: 0.9654\n",
      "Epoch 73/100\n",
      "110288/110288 [==============================] - 31s 283us/step - loss: 0.0996 - acc: 0.9702 - val_loss: nan - val_acc: 0.9664\n",
      "Epoch 74/100\n",
      "110288/110288 [==============================] - 31s 282us/step - loss: 0.0972 - acc: 0.9709 - val_loss: nan - val_acc: 0.9667\n",
      "Epoch 75/100\n",
      "110288/110288 [==============================] - 31s 284us/step - loss: 0.0971 - acc: 0.9711 - val_loss: nan - val_acc: 0.9656\n",
      "Epoch 76/100\n",
      "110288/110288 [==============================] - 31s 281us/step - loss: 0.0958 - acc: 0.9715 - val_loss: nan - val_acc: 0.9672\n",
      "Epoch 77/100\n",
      "110288/110288 [==============================] - 31s 280us/step - loss: 0.0961 - acc: 0.9713 - val_loss: nan - val_acc: 0.9671\n",
      "Epoch 78/100\n",
      "110288/110288 [==============================] - 31s 282us/step - loss: 0.0962 - acc: 0.9714 - val_loss: nan - val_acc: 0.9667\n",
      "Epoch 79/100\n",
      "110288/110288 [==============================] - 31s 282us/step - loss: 0.0937 - acc: 0.9721 - val_loss: nan - val_acc: 0.9667\n",
      "Epoch 80/100\n",
      "110288/110288 [==============================] - 31s 282us/step - loss: 0.0932 - acc: 0.9721 - val_loss: nan - val_acc: 0.9676\n",
      "Epoch 81/100\n",
      "110288/110288 [==============================] - 31s 281us/step - loss: 0.0927 - acc: 0.9724 - val_loss: nan - val_acc: 0.9683\n",
      "Epoch 82/100\n",
      "110288/110288 [==============================] - 31s 280us/step - loss: 0.0922 - acc: 0.9725 - val_loss: nan - val_acc: 0.9690\n",
      "Epoch 83/100\n",
      "110288/110288 [==============================] - 31s 282us/step - loss: 0.0914 - acc: 0.9728 - val_loss: nan - val_acc: 0.9673\n",
      "Epoch 84/100\n",
      "110288/110288 [==============================] - 31s 282us/step - loss: 0.0910 - acc: 0.9729 - val_loss: nan - val_acc: 0.9672\n",
      "Epoch 85/100\n",
      "110288/110288 [==============================] - 31s 282us/step - loss: 0.0902 - acc: 0.9732 - val_loss: nan - val_acc: 0.9688\n",
      "Epoch 86/100\n",
      "110288/110288 [==============================] - 31s 283us/step - loss: 0.0895 - acc: 0.9734 - val_loss: nan - val_acc: 0.9688\n",
      "Sample 1:\n",
      "il a vu un vieux camion jaune <PAD> <PAD> <PAD> <PAD> <PAD> <PAD> <PAD> <PAD> <PAD> <PAD> <PAD> <PAD> <PAD> <PAD>\n",
      "Il a vu un vieux camion jaune\n",
      "Sample 2:\n",
      "new jersey est parfois calme pendant l' automne et il est neigeux en avril <PAD> <PAD> <PAD> <PAD> <PAD> <PAD> <PAD>\n",
      "new jersey est parfois calme pendant l' automne et il est neigeux en avril <PAD> <PAD> <PAD> <PAD> <PAD> <PAD> <PAD>\n"
     ]
    }
   ],
   "source": [
    "def model_final(input_shape, output_sequence_length, english_vocab_size, french_vocab_size):\n",
    "    \"\"\"\n",
    "    Build and train a model that incorporates embedding, encoder-decoder, and bidirectional RNN on x and y\n",
    "    :param input_shape: Tuple of input shape\n",
    "    :param output_sequence_length: Length of output sequence\n",
    "    :param english_vocab_size: Number of unique English words in the dataset\n",
    "    :param french_vocab_size: Number of unique French words in the dataset\n",
    "    :return: Keras model built, but not trained\n",
    "    \"\"\"\n",
    "    word_vec_dim = 20\n",
    "    number_units = 30\n",
    "    inputs = Input(shape=input_shape[1:])\n",
    "    embedding = Embedding(input_dim=english_vocab_size, output_dim=word_vec_dim)(inputs)\n",
    "    hidden1 = Bidirectional(GRU(number_units, return_sequences=True))(embedding)\n",
    "    hidden2 = Bidirectional(GRU(number_units, return_sequences=True))(hidden1)\n",
    "    output = TimeDistributed(Dense(french_vocab_size))(hidden2)\n",
    "    \n",
    "    model = Model(inputs, Activation('softmax')(output))\n",
    "    model.compile(loss=sparse_categorical_crossentropy,\n",
    "                  optimizer=Adam(lr=0.0016, decay=0.00001),\n",
    "                  metrics=['accuracy'])\n",
    "    return model\n",
    "\n",
    "# tests.test_model_final(model_final) <- My model is not a Encoder-Decoder and therefore the input and output shape\n",
    "# are the same.\n",
    "\n",
    "print('Final Model Loaded')\n",
    "\n",
    "def final_predictions(x, y, x_tk, y_tk):\n",
    "    \"\"\"\n",
    "    Gets predictions using the final model\n",
    "    :param x: Preprocessed English data\n",
    "    :param y: Preprocessed French data\n",
    "    :param x_tk: English tokenizer\n",
    "    :param y_tk: French tokenizer\n",
    "    \"\"\"\n",
    "    \n",
    "    tmp_x = pad(x, 21)\n",
    "\n",
    "    model = model_final(tmp_x.shape,\n",
    "                        max_french_sequence_length,\n",
    "                        english_vocab_size,\n",
    "                        french_vocab_size)\n",
    "\n",
    "    model.fit(tmp_x, \n",
    "              preproc_french_sentences, \n",
    "              batch_size=500, \n",
    "              epochs=100, \n",
    "              validation_split=0.2,\n",
    "              callbacks=[EarlyStopping(monitor='val_acc', patience=4)])\n",
    "    \n",
    "    ## DON'T EDIT ANYTHING BELOW THIS LINE\n",
    "    y_id_to_word = {value: key for key, value in y_tk.word_index.items()}\n",
    "    y_id_to_word[0] = '<PAD>'\n",
    "\n",
    "    sentence = 'he saw a old yellow truck'\n",
    "    sentence = [x_tk.word_index[word] for word in sentence.split()]\n",
    "    sentence = pad_sequences([sentence], maxlen=x.shape[-1], padding='post')\n",
    "    sentences = np.array([sentence[0], x[0]])\n",
    "    # My model is not an Encoder-Decoder and therefore the input must be reshaped.\n",
    "    sentences = pad(sentences, 21)\n",
    "    # \n",
    "    predictions = model.predict(sentences, len(sentences))\n",
    "        \n",
    "    print('Sample 1:')\n",
    "    print(' '.join([y_id_to_word[np.argmax(x)] for x in predictions[0]]))\n",
    "    print('Il a vu un vieux camion jaune')\n",
    "    print('Sample 2:')\n",
    "    print(' '.join([y_id_to_word[np.argmax(x)] for x in predictions[1]]))\n",
    "    print(' '.join([y_id_to_word[np.max(x)] for x in y[0]]))\n",
    "\n",
    "\n",
    "final_predictions(preproc_english_sentences, preproc_french_sentences, english_tokenizer, french_tokenizer)"
   ]
  },
  {
   "cell_type": "markdown",
   "metadata": {},
   "source": [
    "## Optional Enhancements\n",
    "\n",
    "This project focuses on learning various network architectures for machine translation, but we don't evaluate the models according to best practices by splitting the data into separate test & training sets -- so the model accuracy is overstated. Use the [`sklearn.model_selection.train_test_split()`](http://scikit-learn.org/stable/modules/generated/sklearn.model_selection.train_test_split.html) function to create separate training & test datasets, then retrain each of the models using only the training set and evaluate the prediction accuracy using the hold out test set. Does the \"best\" model change?"
   ]
  },
  {
   "cell_type": "markdown",
   "metadata": {},
   "source": [
    "## Submission\n",
    "When you're ready to submit, complete the following steps:\n",
    "1. Review the [rubric](https://review.udacity.com/#!/rubrics/1004/view) to ensure your submission meets all requirements to pass\n",
    "2. Generate an HTML version of this notebook\n",
    "\n",
    "  - Run the next cell to attempt automatic generation (this is the recommended method in Workspaces)\n",
    "  - Navigate to **FILE -> Download as -> HTML (.html)**\n",
    "  - Manually generate a copy using `nbconvert` from your shell terminal\n",
    "```\n",
    "$ pip install nbconvert\n",
    "$ python -m nbconvert machine_translation.ipynb\n",
    "```\n",
    "  \n",
    "3. Submit the project\n",
    "\n",
    "  - If you are in a Workspace, simply click the \"Submit Project\" button (bottom towards the right)\n",
    "  \n",
    "  - Otherwise, add the following files into a zip archive and submit them \n",
    "  - `helper.py`\n",
    "  - `machine_translation.ipynb`\n",
    "  - `machine_translation.html`\n",
    "    - You can export the notebook by navigating to **File -> Download as -> HTML (.html)**."
   ]
  },
  {
   "cell_type": "code",
   "execution_count": 67,
   "metadata": {},
   "outputs": [
    {
     "data": {
      "text/plain": [
       "['[NbConvertApp] Converting notebook machine_translation.ipynb to html',\n",
       " '[NbConvertApp] Writing 344689 bytes to machine_translation.html']"
      ]
     },
     "execution_count": 67,
     "metadata": {},
     "output_type": "execute_result"
    }
   ],
   "source": [
    "# Save before you run this cell!\n",
    "!!jupyter nbconvert *.ipynb"
   ]
  },
  {
   "cell_type": "markdown",
   "metadata": {},
   "source": [
    "### Model 4: Encoder-Decoder (OPTIONAL)\n",
    "Time to look at encoder-decoder models.  This model is made up of an encoder and decoder. The encoder creates a matrix representation of the sentence.  The decoder takes this matrix as input and predicts the translation as output.\n",
    "\n",
    "Create an encoder-decoder model in the cell below."
   ]
  },
  {
   "cell_type": "code",
   "execution_count": null,
   "metadata": {},
   "outputs": [],
   "source": [
    "def encdec_model(input_shape, output_sequence_length, english_vocab_size, french_vocab_size):\n",
    "    \"\"\"\n",
    "    Build and train an encoder-decoder model on x and y\n",
    "    :param input_shape: Tuple of input shape\n",
    "    :param output_sequence_length: Length of output sequence\n",
    "    :param english_vocab_size: Number of unique English words in the dataset\n",
    "    :param french_vocab_size: Number of unique French words in the dataset\n",
    "    :return: Keras model built, but not trained\n",
    "    \"\"\"\n",
    "    # OPTIONAL: Implement\n",
    "    return None\n",
    "tests.test_encdec_model(encdec_model)\n",
    "\n",
    "\n",
    "# OPTIONAL: Train and Print prediction(s)"
   ]
  }
 ],
 "metadata": {
  "kernelspec": {
   "display_name": "Python 3",
   "language": "python",
   "name": "python3"
  },
  "language_info": {
   "codemirror_mode": {
    "name": "ipython",
    "version": 3
   },
   "file_extension": ".py",
   "mimetype": "text/x-python",
   "name": "python",
   "nbconvert_exporter": "python",
   "pygments_lexer": "ipython3",
   "version": "3.6.3"
  }
 },
 "nbformat": 4,
 "nbformat_minor": 1
}
