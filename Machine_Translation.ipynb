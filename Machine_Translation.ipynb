{
 "cells": [
  {
   "cell_type": "markdown",
   "metadata": {
    "deletable": true,
    "editable": true
   },
   "source": [
    "## Using a simple RNN for machine translation\n",
    "This project is still in progress.\n",
    "\n",
    "I'm busy doing the Udacity Natural Language Processing Nanodegree and I'm busy trying build an effective English to German translation model.\n",
    "\n",
    "<a href='http://www.manythings.org/anki/'>Data</a> used to train the translation model.\n",
    "\n",
    "TODO\n",
    "- Add GloVe word embedding.\n",
    "- Add vis about word distribution\n",
    "- Look for another language word2vec"
   ]
  },
  {
   "cell_type": "code",
   "execution_count": 1,
   "metadata": {
    "collapsed": false,
    "deletable": true,
    "editable": true
   },
   "outputs": [
    {
     "name": "stderr",
     "output_type": "stream",
     "text": [
      "Using TensorFlow backend.\n"
     ]
    }
   ],
   "source": [
    "import numpy as np\n",
    "import pandas as pd\n",
    "\n",
    "from keras.preprocessing.text import Tokenizer\n",
    "from keras.preprocessing.sequence import pad_sequences\n",
    "from keras.models import Model\n",
    "from keras import Sequential\n",
    "from keras.layers import GRU, Input, Dense, TimeDistributed, Activation, RepeatVector, Bidirectional, LSTM, Flatten\n",
    "from keras.layers.embeddings import Embedding\n",
    "from keras.optimizers import Adam\n",
    "from keras.losses import sparse_categorical_crossentropy"
   ]
  },
  {
   "cell_type": "code",
   "execution_count": 2,
   "metadata": {
    "collapsed": false,
    "deletable": true,
    "editable": true
   },
   "outputs": [
    {
     "data": {
      "text/html": [
       "<div>\n",
       "<style scoped>\n",
       "    .dataframe tbody tr th:only-of-type {\n",
       "        vertical-align: middle;\n",
       "    }\n",
       "\n",
       "    .dataframe tbody tr th {\n",
       "        vertical-align: top;\n",
       "    }\n",
       "\n",
       "    .dataframe thead th {\n",
       "        text-align: right;\n",
       "    }\n",
       "</style>\n",
       "<table border=\"1\" class=\"dataframe\">\n",
       "  <thead>\n",
       "    <tr style=\"text-align: right;\">\n",
       "      <th></th>\n",
       "      <th>0</th>\n",
       "      <th>1</th>\n",
       "    </tr>\n",
       "  </thead>\n",
       "  <tbody>\n",
       "    <tr>\n",
       "      <th>0</th>\n",
       "      <td>Hi.</td>\n",
       "      <td>Hallo!</td>\n",
       "    </tr>\n",
       "    <tr>\n",
       "      <th>1</th>\n",
       "      <td>Hi.</td>\n",
       "      <td>Grüß Gott!</td>\n",
       "    </tr>\n",
       "    <tr>\n",
       "      <th>2</th>\n",
       "      <td>Run!</td>\n",
       "      <td>Lauf!</td>\n",
       "    </tr>\n",
       "    <tr>\n",
       "      <th>3</th>\n",
       "      <td>Fire!</td>\n",
       "      <td>Feuer!</td>\n",
       "    </tr>\n",
       "    <tr>\n",
       "      <th>4</th>\n",
       "      <td>Help!</td>\n",
       "      <td>Hilfe!</td>\n",
       "    </tr>\n",
       "  </tbody>\n",
       "</table>\n",
       "</div>"
      ],
      "text/plain": [
       "       0           1\n",
       "0    Hi.      Hallo!\n",
       "1    Hi.  Grüß Gott!\n",
       "2   Run!       Lauf!\n",
       "3  Fire!      Feuer!\n",
       "4  Help!      Hilfe!"
      ]
     },
     "execution_count": 2,
     "metadata": {},
     "output_type": "execute_result"
    }
   ],
   "source": [
    "fname = '/home/andrew/Documents/ML/data/deu-eng/deu.txt'\n",
    "df = pd.read_csv(fname, header=None, sep='\\t', lineterminator='\\n')\n",
    "df[:5]"
   ]
  },
  {
   "cell_type": "code",
   "execution_count": 3,
   "metadata": {
    "collapsed": false,
    "deletable": true,
    "editable": true
   },
   "outputs": [],
   "source": [
    "english = list(df.iloc[:, 0])\n",
    "dutch = list(df.iloc[:, 1])"
   ]
  },
  {
   "cell_type": "code",
   "execution_count": 4,
   "metadata": {
    "collapsed": true,
    "deletable": true,
    "editable": true
   },
   "outputs": [],
   "source": [
    "# Preprosessing  functions\n",
    "def tokenize(x):\n",
    "    text_tokenizer = Tokenizer()\n",
    "    text_tokenizer.fit_on_texts(x)\n",
    "    text_tokenized = text_tokenizer.texts_to_sequences(x)\n",
    "    return text_tokenized, text_tokenizer\n",
    "\n",
    "def pad(x, length=None):\n",
    "    if length == None:\n",
    "        length = max([len(sentance) for sentance in x])\n",
    "    x = np.array(x)\n",
    "    x_padded = pad_sequences(x, maxlen=length, dtype='int32', padding='post')\n",
    "    return x_padded\n",
    "\n",
    "def preprocess(x, y):\n",
    "    preprocess_x, x_token = tokenize(x)\n",
    "    preprocess_y, y_token = tokenize(y)\n",
    "    preprocess_x = pad(preprocess_x)\n",
    "    preprocess_y = pad(preprocess_y)\n",
    "    return preprocess_x, preprocess_y, x_token, y_token"
   ]
  },
  {
   "cell_type": "code",
   "execution_count": 5,
   "metadata": {
    "collapsed": false,
    "deletable": true,
    "editable": true
   },
   "outputs": [],
   "source": [
    "eng_tokenized, eng_tokenizer = tokenize(english)\n",
    "dut_tokenized, dut_tokenizer = tokenize(dutch)"
   ]
  },
  {
   "cell_type": "code",
   "execution_count": 6,
   "metadata": {
    "collapsed": false,
    "deletable": true,
    "editable": true
   },
   "outputs": [
    {
     "data": {
      "image/png": "[encoded data removed]",
      "text/plain": [
       "<matplotlib.figure.Figure at 0x7fc3d7bb3ba8>"
      ]
     },
     "metadata": {},
     "output_type": "display_data"
    }
   ],
   "source": [
    "# print(t.document_count)\n",
    "# print(t.word_index)\n",
    "# print(t.word_docs)\n",
    "import operator\n",
    "import matplotlib.pyplot as plt\n",
    "d = dut_tokenizer.word_counts\n",
    "sorted_d = sorted(d.items(), key=operator.itemgetter(1))\n",
    "y = [num for _, num in sorted_d]\n",
    "x = np.linspace(0, len(y), len(y))\n",
    "x_range = len(y)\n",
    "plt.plot(x[:x_range], y[:x_range])\n",
    "plt.show()"
   ]
  },
  {
   "cell_type": "code",
   "execution_count": 23,
   "metadata": {
    "collapsed": true,
    "deletable": true,
    "editable": true
   },
   "outputs": [],
   "source": [
    "eng_padded = pad(eng_tokenized, 8)\n",
    "dut_padded = pad(dut_tokenized, 8)"
   ]
  },
  {
   "cell_type": "code",
   "execution_count": 42,
   "metadata": {
    "collapsed": false,
    "deletable": true,
    "editable": true
   },
   "outputs": [
    {
     "data": {
      "text/plain": [
       "50"
      ]
     },
     "execution_count": 42,
     "metadata": {},
     "output_type": "execute_result"
    }
   ],
   "source": [
    "len(embeddings_index['word'])"
   ]
  },
  {
   "cell_type": "code",
   "execution_count": 36,
   "metadata": {
    "collapsed": false,
    "deletable": true,
    "editable": true
   },
   "outputs": [],
   "source": [
    "embeddings_index = dict()\n",
    "with open('/home/andrew/Documents/ML/data/GloVe/glove.6B.50d.txt') as f:\n",
    "    for line in f:\n",
    "        values = line.split()\n",
    "        word = values[0]\n",
    "        coefs = np.asarray(values[1:], dtype='float32')\n",
    "        embeddings_index[word] = coefs\n",
    "\n",
    "num2word = dict((num, word) for word, num in eng_tokenizer.word_index.items())"
   ]
  },
  {
   "cell_type": "code",
   "execution_count": 66,
   "metadata": {
    "collapsed": false
   },
   "outputs": [
    {
     "data": {
      "text/plain": [
       "(169813, 8, 50)"
      ]
     },
     "execution_count": 66,
     "metadata": {},
     "output_type": "execute_result"
    }
   ],
   "source": [
    "eng_train = np.zeros((169813, 8, 50))\n",
    "for i, sentance in enumerate(eng_padded):\n",
    "    for j, num in enumerate(sentance):\n",
    "        if num == 0: break\n",
    "        word = num2word[num]\n",
    "        try:\n",
    "            eng_train[i][j] += embeddings_index[word]\n",
    "        except:\n",
    "            continue\n",
    "eng_train.shape"
   ]
  },
  {
   "cell_type": "code",
   "execution_count": 71,
   "metadata": {
    "collapsed": false
   },
   "outputs": [
    {
     "data": {
      "text/plain": [
       "array([[-0.21149001,  0.28718999,  0.50827003,  0.41475999, -0.29165   ,\n",
       "         1.19749999, -1.69089997,  0.0876    , -0.31939   , -1.38940001,\n",
       "        -1.19850004,  0.72220999, -0.98164999,  0.34382999,  0.90166003,\n",
       "        -0.10125   ,  0.74040997,  0.059835  , -0.62124002, -0.7256    ,\n",
       "        -0.45647001,  0.35510999,  0.04157   ,  0.68783998,  0.59416002,\n",
       "        -1.21599996, -0.13829   , -0.18134999, -0.61884999,  0.0485    ,\n",
       "         1.44070005, -0.29903999,  0.22315   ,  0.086713  , -0.16579001,\n",
       "        -0.16432001, -0.20642   , -0.51321   ,  0.77105999, -0.69222999,\n",
       "         0.13395999,  1.47280002, -1.06099999,  0.073034  , -0.16718   ,\n",
       "         0.41001001, -0.092786  , -0.23316   , -0.74066001,  1.62049997],\n",
       "       [ 0.54821998,  0.038847  ,  0.10127   ,  0.31319001,  0.095487  ,\n",
       "         0.41813999, -0.79492998, -0.58296001,  0.026643  ,  0.12392   ,\n",
       "         0.35194001, -0.02163   , -0.87018001, -0.27178001,  0.65448999,\n",
       "         0.42934   ,  0.097544  ,  0.31779   , -0.11921   , -0.097106  ,\n",
       "        -0.47584999,  0.24907   ,  0.1223    , -0.29078999, -0.16866   ,\n",
       "        -2.10719991,  0.022174  ,  0.45276999, -0.64485002,  0.13180999,\n",
       "         3.65939999, -0.1714    ,  0.23919   , -0.42249   , -0.088331  ,\n",
       "        -0.32925001, -0.12847   ,  0.47055   , -0.075953  , -0.27746999,\n",
       "        -0.41905001,  0.60803002, -0.24260999,  0.014885  , -0.23204   ,\n",
       "         0.020879  , -0.82174999,  0.26587999, -0.40267   , -0.17111   ]])"
      ]
     },
     "execution_count": 71,
     "metadata": {},
     "output_type": "execute_result"
    }
   ],
   "source": [
    "# eng_padded.shape\n",
    "# eng_train[0][0].shape\n",
    "eng_train[10000][:2]"
   ]
  },
  {
   "cell_type": "code",
   "execution_count": 73,
   "metadata": {
    "collapsed": false,
    "deletable": true,
    "editable": true
   },
   "outputs": [
    {
     "name": "stdout",
     "output_type": "stream",
     "text": [
      "_________________________________________________________________\n",
      "Layer (type)                 Output Shape              Param #   \n",
      "=================================================================\n",
      "lstm_2 (LSTM)                (None, 8, 10)             2440      \n",
      "_________________________________________________________________\n",
      "time_distributed_1 (TimeDist (None, 8, 32798)          360778    \n",
      "=================================================================\n",
      "Total params: 363,218\n",
      "Trainable params: 363,218\n",
      "Non-trainable params: 0\n",
      "_________________________________________________________________\n"
     ]
    }
   ],
   "source": [
    "# unique_eng_words = len(eng_tokenizer.word_index)\n",
    "# shape =  (169813, 8, 50)\n",
    "unique_dut_words = len(dut_tokenizer.word_index)\n",
    "\n",
    "model = Sequential()\n",
    "model.add(LSTM(10, input_shape=(8, 50), return_sequences=True))\n",
    "model.add(TimeDistributed(Dense(unique_dut_words)))\n",
    "\n",
    "model.compile(loss='sparse_categorical_crossentropy', optimizer='sgd')\n",
    "model.summary()"
   ]
  },
  {
   "cell_type": "code",
   "execution_count": 75,
   "metadata": {
    "collapsed": false,
    "deletable": true,
    "editable": true
   },
   "outputs": [
    {
     "data": {
      "text/plain": [
       "(169813, 8)"
      ]
     },
     "execution_count": 75,
     "metadata": {},
     "output_type": "execute_result"
    }
   ],
   "source": [
    "dut_padded.shape"
   ]
  },
  {
   "cell_type": "code",
   "execution_count": 78,
   "metadata": {
    "collapsed": false,
    "deletable": true,
    "editable": true
   },
   "outputs": [
    {
     "name": "stdout",
     "output_type": "stream",
     "text": [
      "Epoch 1/1\n",
      "\r",
      "10/10 [==============================] - 0s 6ms/step - loss: 4.9735\n"
     ]
    },
    {
     "data": {
      "text/plain": [
       "<keras.callbacks.History at 0x7fc30862ce10>"
      ]
     },
     "execution_count": 78,
     "metadata": {},
     "output_type": "execute_result"
    }
   ],
   "source": [
    "dut_reshaped = dut_padded.reshape(-1, 8, 1)\n",
    "model.fit(eng_train[:10], dut_reshaped[:10], batch_size = 1000, epochs=1)"
   ]
  },
  {
   "cell_type": "code",
   "execution_count": 40,
   "metadata": {
    "collapsed": false,
    "deletable": true,
    "editable": true
   },
   "outputs": [
    {
     "data": {
      "text/plain": [
       "(1, 10, 9585)"
      ]
     },
     "execution_count": 40,
     "metadata": {},
     "output_type": "execute_result"
    }
   ],
   "source": [
    "prediction = model.predict(eng_padded[:1])\n",
    "prediction.shape"
   ]
  },
  {
   "cell_type": "code",
   "execution_count": 41,
   "metadata": {
    "collapsed": false,
    "deletable": true,
    "editable": true
   },
   "outputs": [
    {
     "name": "stdout",
     "output_type": "stream",
     "text": [
      "(10,)\n"
     ]
    },
    {
     "data": {
      "text/plain": [
       "array([0, 0, 0, 0, 0, 0, 0, 0, 0, 0])"
      ]
     },
     "execution_count": 41,
     "metadata": {},
     "output_type": "execute_result"
    }
   ],
   "source": [
    "prediction = np.argmax(prediction[0], axis=1)\n",
    "print(prediction.shape)\n",
    "prediction"
   ]
  },
  {
   "cell_type": "code",
   "execution_count": 42,
   "metadata": {
    "collapsed": false,
    "deletable": true,
    "editable": true
   },
   "outputs": [
    {
     "ename": "KeyError",
     "evalue": "0",
     "output_type": "error",
     "traceback": [
      "\u001b[0;31m---------------------------------------------------------------------------\u001b[0m",
      "\u001b[0;31mKeyError\u001b[0m                                  Traceback (most recent call last)",
      "\u001b[0;32m<ipython-input-42-c33f37ff7dfe>\u001b[0m in \u001b[0;36m<module>\u001b[0;34m()\u001b[0m\n\u001b[1;32m      2\u001b[0m \u001b[0;32mfor\u001b[0m \u001b[0mi\u001b[0m\u001b[0;34m,\u001b[0m \u001b[0mnum\u001b[0m \u001b[0;32min\u001b[0m \u001b[0menumerate\u001b[0m\u001b[0;34m(\u001b[0m\u001b[0mprediction\u001b[0m\u001b[0;34m)\u001b[0m\u001b[0;34m:\u001b[0m\u001b[0;34m\u001b[0m\u001b[0m\n\u001b[1;32m      3\u001b[0m     \u001b[0;32mif\u001b[0m \u001b[0mi\u001b[0m \u001b[0;34m==\u001b[0m \u001b[0mlen\u001b[0m\u001b[0;34m(\u001b[0m\u001b[0mprediction\u001b[0m\u001b[0;34m)\u001b[0m\u001b[0;34m:\u001b[0m \u001b[0;32mbreak\u001b[0m\u001b[0;34m\u001b[0m\u001b[0m\n\u001b[0;32m----> 4\u001b[0;31m     \u001b[0mprint\u001b[0m\u001b[0;34m(\u001b[0m\u001b[0mnum2word\u001b[0m\u001b[0;34m[\u001b[0m\u001b[0mnum\u001b[0m\u001b[0;34m]\u001b[0m\u001b[0;34m)\u001b[0m\u001b[0;34m\u001b[0m\u001b[0m\n\u001b[0m",
      "\u001b[0;31mKeyError\u001b[0m: 0"
     ]
    }
   ],
   "source": [
    "num2word = dict((num, word) for word, num in eng_tokenizer.word_index.items())\n",
    "for i, num in enumerate(prediction):\n",
    "    if i == len(prediction): break\n",
    "    print(num2word[num])"
   ]
  },
  {
   "cell_type": "code",
   "execution_count": null,
   "metadata": {
    "collapsed": true,
    "deletable": true,
    "editable": true
   },
   "outputs": [],
   "source": []
  }
 ],
 "metadata": {
  "kernelspec": {
   "display_name": "Python 3",
   "language": "python",
   "name": "python3"
  },
  "language_info": {
   "codemirror_mode": {
    "name": "ipython",
    "version": 3
   },
   "file_extension": ".py",
   "mimetype": "text/x-python",
   "name": "python",
   "nbconvert_exporter": "python",
   "pygments_lexer": "ipython3",
   "version": "3.6.5"
  }
 },
 "nbformat": 4,
 "nbformat_minor": 2
}
